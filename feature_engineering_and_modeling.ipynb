{
 "cells": [
  {
   "cell_type": "code",
   "execution_count": 3,
   "id": "5793a3ba",
   "metadata": {},
   "outputs": [
    {
     "name": "stdout",
     "output_type": "stream",
     "text": [
      "      tconst  startYear  runtimeMinutes                      genres  \\\n",
      "0  tt0000574       1906            70.0  Action,Adventure,Biography   \n",
      "1  tt0002130       1911            71.0     Adventure,Drama,Fantasy   \n",
      "2  tt0002423       1919           113.0     Biography,Drama,Romance   \n",
      "3  tt0002844       1913            54.0                 Crime,Drama   \n",
      "4  tt0003014       1913            96.0                       Drama   \n",
      "\n",
      "   averageRating  numVotes                      directors  \\\n",
      "0            6.0      1013                      nm0846879   \n",
      "1            7.0      3879  nm0078205,nm0655824,nm0209738   \n",
      "2            6.6      1087                      nm0523932   \n",
      "3            6.9      2655                      nm0275421   \n",
      "4            7.0      1549                      nm0803705   \n",
      "\n",
      "                         writers    actor_1    actor_2    actor_3  \n",
      "0                      nm0846879  nm0846887  nm0846894  nm1431224  \n",
      "1                      nm0019604  nm0660139  nm0685283  nm0209738  \n",
      "2            nm0266183,nm0473134  nm0624470  nm0417837  nm0509573  \n",
      "3  nm0019855,nm0275421,nm0816232  nm0622772  nm0622772  nm0107631  \n",
      "4            nm0472236,nm0803705  nm0096737  nm0344981  nm0511806  \n"
     ]
    }
   ],
   "source": [
    "# Importing cleaned data\n",
    "import pandas as pd\n",
    "final_df = pd.read_parquet(\"data/final_movie_data.parquet\")\n",
    "print(final_df.head())"
   ]
  },
  {
   "cell_type": "code",
   "execution_count": 4,
   "id": "4bc5d0d6",
   "metadata": {},
   "outputs": [
    {
     "name": "stdout",
     "output_type": "stream",
     "text": [
      "      tconst  startYear  runtimeMinutes  averageRating  numVotes  \\\n",
      "0  tt0000574       1906            70.0            6.0      1013   \n",
      "1  tt0002130       1911            71.0            7.0      3879   \n",
      "2  tt0002423       1919           113.0            6.6      1087   \n",
      "3  tt0002844       1913            54.0            6.9      2655   \n",
      "4  tt0003014       1913            96.0            7.0      1549   \n",
      "\n",
      "                       directors                        writers    actor_1  \\\n",
      "0                      nm0846879                      nm0846879  nm0846887   \n",
      "1  nm0078205,nm0655824,nm0209738                      nm0019604  nm0660139   \n",
      "2                      nm0523932            nm0266183,nm0473134  nm0624470   \n",
      "3                      nm0275421  nm0019855,nm0275421,nm0816232  nm0622772   \n",
      "4                      nm0803705            nm0472236,nm0803705  nm0096737   \n",
      "\n",
      "     actor_2    actor_3  ...  Music  Musical  Mystery  News  Romance  Sci-Fi  \\\n",
      "0  nm0846894  nm1431224  ...      0        0        0     0        0       0   \n",
      "1  nm0685283  nm0209738  ...      0        0        0     0        0       0   \n",
      "2  nm0417837  nm0509573  ...      0        0        0     0        1       0   \n",
      "3  nm0622772  nm0107631  ...      0        0        0     0        0       0   \n",
      "4  nm0344981  nm0511806  ...      0        0        0     0        0       0   \n",
      "\n",
      "   Sport  Thriller  War  Western  \n",
      "0      0         0    0        0  \n",
      "1      0         0    0        0  \n",
      "2      0         0    0        0  \n",
      "3      0         0    0        0  \n",
      "4      0         0    0        0  \n",
      "\n",
      "[5 rows x 33 columns]\n"
     ]
    }
   ],
   "source": [
    "# One-hot encoding genres\n",
    "genres_dummies = final_df['genres'].str.replace(' ', '').str.replace(',', '|').str.get_dummies('|')\n",
    "final_df = pd.concat([final_df, genres_dummies], axis=1)\n",
    "final_df = final_df.drop(columns=['genres'])\n",
    "print(final_df.head())\n"
   ]
  },
  {
   "cell_type": "code",
   "execution_count": 5,
   "id": "25dbf339",
   "metadata": {},
   "outputs": [],
   "source": [
    "# Making df for directors\n",
    "directors = final_df[['tconst', 'directors']].dropna()\n",
    "directors['directors_nconst'] = directors['directors'].str.split(',')\n",
    "directors = directors.explode('directors_nconst')\n",
    "\n",
    "# Making df for writers\n",
    "writers  = final_df[['tconst', 'writers']].dropna()\n",
    "writers['writers_nconst'] = writers['writers'].str.split(',')\n",
    "writers = writers.explode('writers_nconst')\n"
   ]
  },
  {
   "cell_type": "code",
   "execution_count": 6,
   "id": "f42e2681",
   "metadata": {},
   "outputs": [],
   "source": [
    "# Getting avg ratings for directors, writers, and actors\n",
    "\n",
    "movie_ratings  = final_df.set_index('tconst')['averageRating']\n",
    "\n",
    "director_ratings = pd.merge(directors, movie_ratings, on='tconst')\n",
    "director_scores  = director_ratings.groupby('directors_nconst')['averageRating'].mean()\n",
    "\n",
    "writer_ratings = pd.merge(writers, movie_ratings, on='tconst')\n",
    "writer_scores  = writer_ratings.groupby('writers_nconst')['averageRating'].mean()\n",
    "\n",
    "actor_1_ratings = final_df.groupby('actor_1')['averageRating'].mean()\n",
    "actor_2_ratings = final_df.groupby('actor_2')['averageRating'].mean()\n",
    "actor_3_ratings = final_df.groupby('actor_3')['averageRating'].mean()\n",
    "\n",
    "actor_scores = pd.concat([actor_1_ratings, actor_2_ratings, actor_3_ratings]).groupby(level=0).mean()\n"
   ]
  },
  {
   "cell_type": "code",
   "execution_count": 7,
   "id": "a595e34d",
   "metadata": {},
   "outputs": [
    {
     "name": "stdout",
     "output_type": "stream",
     "text": [
      "      tconst  startYear  runtimeMinutes  averageRating  numVotes  \\\n",
      "0  tt0000574       1906            70.0            6.0      1013   \n",
      "1  tt0002130       1911            71.0            7.0      3879   \n",
      "2  tt0002423       1919           113.0            6.6      1087   \n",
      "3  tt0002844       1913            54.0            6.9      2655   \n",
      "4  tt0003014       1913            96.0            7.0      1549   \n",
      "\n",
      "                       directors                        writers    actor_1  \\\n",
      "0                      nm0846879                      nm0846879  nm0846887   \n",
      "1  nm0078205,nm0655824,nm0209738                      nm0019604  nm0660139   \n",
      "2                      nm0523932            nm0266183,nm0473134  nm0624470   \n",
      "3                      nm0275421  nm0019855,nm0275421,nm0816232  nm0622772   \n",
      "4                      nm0803705            nm0472236,nm0803705  nm0096737   \n",
      "\n",
      "     actor_2    actor_3  ...  Sci-Fi  Sport  Thriller  War  Western  \\\n",
      "0  nm0846894  nm1431224  ...       0      0         0    0        0   \n",
      "1  nm0685283  nm0209738  ...       0      0         0    0        0   \n",
      "2  nm0417837  nm0509573  ...       0      0         0    0        0   \n",
      "3  nm0622772  nm0107631  ...       0      0         0    0        0   \n",
      "4  nm0344981  nm0511806  ...       0      0         0    0        0   \n",
      "\n",
      "   director_score  writer_score  actor_1_score  actor_2_score  actor_3_score  \n",
      "0        6.000000         6.000       6.000000       6.000000       6.000000  \n",
      "1        7.000000         6.700       7.000000       7.000000       7.000000  \n",
      "2        7.200000         6.600       6.600000       7.425000       6.525000  \n",
      "3        6.957143         6.825       6.843333       6.843333       6.833333  \n",
      "4        7.528571         7.000       7.500000       7.000000       7.000000  \n",
      "\n",
      "[5 rows x 38 columns]\n"
     ]
    }
   ],
   "source": [
    "# Adding scores for directors, writers, and actors to final_df as columns for training\n",
    "final_df['director_score'] = final_df['directors'].str.split(',').str[0].map(director_scores)\n",
    "final_df['writer_score'] = final_df['writers'].str.split(',').str[0].map(writer_scores)\n",
    "\n",
    "final_df['actor_1_score'] = final_df['actor_1'].map(actor_scores)\n",
    "final_df['actor_2_score'] = final_df['actor_2'].map(actor_scores)\n",
    "final_df['actor_3_score'] = final_df['actor_3'].map(actor_scores)\n",
    "\n",
    "overall_avg_rating = final_df['averageRating'].mean()\n",
    "final_df.fillna({'director_score': overall_avg_rating,\n",
    "                  'writer_score': overall_avg_rating,\n",
    "                  'actor_1_score': overall_avg_rating,\n",
    "                  'actor_2_score': overall_avg_rating,\n",
    "                  'actor_3_score': overall_avg_rating}, inplace=True)\n",
    "print(final_df.head())"
   ]
  },
  {
   "cell_type": "code",
   "execution_count": 8,
   "id": "ccef6934",
   "metadata": {},
   "outputs": [],
   "source": [
    "# Defining features and target variable for baseline training\n",
    "X = final_df.drop(columns=['tconst', 'averageRating', 'numVotes','directors', 'writers', 'actor_1', 'actor_2', 'actor_3'])\n",
    "y = final_df['averageRating']"
   ]
  },
  {
   "cell_type": "code",
   "execution_count": 9,
   "id": "cc551c55",
   "metadata": {},
   "outputs": [],
   "source": [
    "# Making train test split \n",
    "\n",
    "from sklearn.model_selection import train_test_split\n",
    "\n",
    "X_train, X_test, y_train, y_test = train_test_split(X, y, test_size=0.2, random_state=42)"
   ]
  },
  {
   "cell_type": "code",
   "execution_count": 10,
   "id": "141273f5",
   "metadata": {},
   "outputs": [
    {
     "name": "stdout",
     "output_type": "stream",
     "text": [
      "XGBoost Regressor MSE: 0.20132098848270114\n",
      "XGBoost Regressor R^2: 0.8579807258760823\n"
     ]
    }
   ],
   "source": [
    "# Training model and testing with baseline parameters\n",
    "\n",
    "import xgboost as xgb\n",
    "from sklearn.metrics import mean_squared_error, r2_score\n",
    "import numpy as np\n",
    "\n",
    "# Train the model\n",
    "xgbr = xgb.XGBRegressor(n_estimators=100, learning_rate=0.1, max_depth=5, objective='reg:squarederror')\n",
    "xgbr.fit(X_train, y_train)\n",
    "\n",
    "# Make predictions\n",
    "y_pred = xgbr.predict(X_test)\n",
    "\n",
    "# Evaluate the model\n",
    "mse = mean_squared_error(y_test, y_pred)\n",
    "r2 = r2_score(y_test, y_pred)\n",
    "print(f\"XGBoost Regressor MSE: {mse}\")\n",
    "print(f\"XGBoost Regressor R^2: {r2}\")"
   ]
  },
  {
   "cell_type": "code",
   "execution_count": 11,
   "id": "9ca068ae",
   "metadata": {},
   "outputs": [
    {
     "name": "stdout",
     "output_type": "stream",
     "text": [
      "Feature Importances (from most to least important):\n",
      "director_score    0.408644\n",
      "writer_score      0.376370\n",
      "actor_3_score     0.060442\n",
      "actor_2_score     0.033722\n",
      "actor_1_score     0.019372\n",
      "Drama             0.010963\n",
      "Biography         0.010865\n",
      "Documentary       0.009511\n",
      "Crime             0.006806\n",
      "Sport             0.005089\n",
      "runtimeMinutes    0.004987\n",
      "startYear         0.004696\n",
      "Western           0.004504\n",
      "Music             0.004392\n",
      "Fantasy           0.004141\n",
      "Adventure         0.004066\n",
      "Comedy            0.003923\n",
      "Mystery           0.003599\n",
      "History           0.002946\n",
      "Film-Noir         0.002738\n",
      "War               0.002536\n",
      "Animation         0.002442\n",
      "Action            0.002439\n",
      "Thriller          0.002383\n",
      "Sci-Fi            0.002204\n",
      "Horror            0.002152\n",
      "Romance           0.002034\n",
      "Family            0.001291\n",
      "Musical           0.000744\n",
      "News              0.000000\n",
      "dtype: float32\n"
     ]
    }
   ],
   "source": [
    "import pandas as pd\n",
    "\n",
    "# Get feature importance scores from the trained model\n",
    "feature_importances = xgbr.feature_importances_\n",
    "\n",
    "# Create a pandas Series to make it easier to view and sort\n",
    "importances = pd.Series(feature_importances, index=X.columns)\n",
    "\n",
    "# Sort the feature importances in descending order and print them\n",
    "sorted_importances = importances.sort_values(ascending=False)\n",
    "\n",
    "print(\"Feature Importances (from most to least important):\")\n",
    "print(sorted_importances)"
   ]
  },
  {
   "cell_type": "code",
   "execution_count": 12,
   "id": "8adb5dd5",
   "metadata": {},
   "outputs": [
    {
     "name": "stdout",
     "output_type": "stream",
     "text": [
      "Top 8 Feature Names:\n",
      "Index(['director_score', 'writer_score', 'actor_3_score', 'actor_2_score',\n",
      "       'actor_1_score', 'Drama', 'Biography', 'Documentary'],\n",
      "      dtype='object')\n",
      "       director_score  writer_score  actor_3_score  actor_2_score  \\\n",
      "0            6.000000      6.000000       6.000000       6.000000   \n",
      "1            7.000000      6.700000       7.000000       7.000000   \n",
      "2            7.200000      6.600000       6.525000       7.425000   \n",
      "3            6.957143      6.825000       6.833333       6.843333   \n",
      "4            7.528571      7.000000       7.000000       7.000000   \n",
      "...               ...           ...            ...            ...   \n",
      "46173        6.700000      6.800000       6.150000       6.125000   \n",
      "46174        5.450000      5.185714       5.500000       6.050000   \n",
      "46175        5.240000      7.400000       6.700000       7.200000   \n",
      "46176        5.800000      5.800000       6.887500       5.822222   \n",
      "46177        6.400000      6.400000       6.175000       6.583333   \n",
      "\n",
      "       actor_1_score  Drama  Biography  Documentary  \n",
      "0           6.000000      0          1            0  \n",
      "1           7.000000      1          0            0  \n",
      "2           6.600000      1          1            0  \n",
      "3           6.843333      1          0            0  \n",
      "4           7.500000      1          0            0  \n",
      "...              ...    ...        ...          ...  \n",
      "46173       6.190000      0          0            0  \n",
      "46174       6.039205      0          0            0  \n",
      "46175       7.400000      1          0            0  \n",
      "46176       6.747619      0          0            0  \n",
      "46177       6.400000      1          0            0  \n",
      "\n",
      "[46178 rows x 8 columns]\n"
     ]
    }
   ],
   "source": [
    "# Selecting only the top 8 features\n",
    "\n",
    "top_feature_names = sorted_importances.index[:8]\n",
    "print(\"Top 8 Feature Names:\")\n",
    "print(top_feature_names)\n",
    "X_top_features = X[top_feature_names]\n",
    "print(X_top_features)"
   ]
  },
  {
   "cell_type": "code",
   "execution_count": 13,
   "id": "12ce8987",
   "metadata": {},
   "outputs": [
    {
     "name": "stdout",
     "output_type": "stream",
     "text": [
      "R^2 (test): 0.8532\n",
      "MAE (test): 0.3053\n"
     ]
    }
   ],
   "source": [
    "# Training new model on selected features\n",
    "\n",
    "from sklearn.model_selection import train_test_split\n",
    "from sklearn.metrics import r2_score, mean_absolute_error\n",
    "import xgboost as xgb\n",
    "import  numpy as np\n",
    "\n",
    "X_train, X_test, y_train, y_test = train_test_split(X_top_features, y, test_size=0.2, random_state=42)\n",
    "\n",
    "xgbr_simple = xgb.XGBRegressor(n_estimators=100, max_depth = 5, learning_rate=0.1, objective='reg:squarederror')\n",
    "xgbr_simple.fit(X_train, y_train)\n",
    "\n",
    "# Make predictions\n",
    "y_pred = xgbr_simple.predict(X_test)\n",
    "r2_simple = r2_score(y_test, y_pred)\n",
    "mae_simple = mean_absolute_error(y_test, y_pred)\n",
    "\n",
    "print(f\"R^2 (test): {r2_simple:.4f}\")\n",
    "print(f\"MAE (test): {mae_simple:.4f}\")"
   ]
  },
  {
   "cell_type": "code",
   "execution_count": 14,
   "id": "5fb6deee",
   "metadata": {},
   "outputs": [
    {
     "name": "stdout",
     "output_type": "stream",
     "text": [
      "R-squared (R²) on Training Data: 0.8666\n",
      "R-squared (R²) on Testing Data:  0.8532\n"
     ]
    }
   ],
   "source": [
    "# Checking for overfitting\n",
    "train_predictions = xgbr_simple.predict(X_train)\n",
    "r2_train = r2_score(y_train, train_predictions)\n",
    "\n",
    "print(f\"R-squared (R²) on Training Data: {r2_train:.4f}\")\n",
    "print(f\"R-squared (R²) on Testing Data:  {r2_simple:.4f}\")"
   ]
  },
  {
   "cell_type": "code",
   "execution_count": 15,
   "id": "53e066ed",
   "metadata": {},
   "outputs": [
    {
     "name": "stdout",
     "output_type": "stream",
     "text": [
      "Training columns saved successfully!\n"
     ]
    }
   ],
   "source": [
    "import joblib\n",
    "import json\n",
    "\n",
    "joblib.dump(xgbr_simple, \"artifacts/model.joblib\")\n",
    "\n",
    "director_scores_dict = director_scores.to_dict()\n",
    "writer_scores_dict = writer_scores.to_dict()\n",
    "actor_scores_dict = actor_scores.to_dict()\n",
    "\n",
    "with open(\"artifacts/director_scores.json\", \"w\") as f:\n",
    "    json.dump(director_scores_dict, f)\n",
    "\n",
    "with open(\"artifacts/writer_scores.json\", \"w\") as f:\n",
    "    json.dump(writer_scores_dict, f)\n",
    "\n",
    "with open(\"artifacts/actor_scores.json\", \"w\") as f:\n",
    "    json.dump(actor_scores_dict, f)\n",
    "\n",
    "training_genre_columns = [col for col in X_top_features if col not in ['director_score', 'writer_score', 'actor_1_score','actor_2_score','actor_3_score']]\n",
    "with open(\"artifacts/genre_columns.json\", \"w\") as f:\n",
    "    json.dump(training_genre_columns, f)\n",
    "\n",
    "# Save the exact order of columns the model was trained on\n",
    "training_columns = list(X_top_features.columns)\n",
    "with open(\"artifacts/training_columns.json\", \"w\") as f:\n",
    "    json.dump(training_columns, f)\n",
    "\n",
    "print(\"Training columns saved successfully!\")"
   ]
  }
 ],
 "metadata": {
  "kernelspec": {
   "display_name": ".venv (3.12.2)",
   "language": "python",
   "name": "python3"
  },
  "language_info": {
   "codemirror_mode": {
    "name": "ipython",
    "version": 3
   },
   "file_extension": ".py",
   "mimetype": "text/x-python",
   "name": "python",
   "nbconvert_exporter": "python",
   "pygments_lexer": "ipython3",
   "version": "3.12.2"
  }
 },
 "nbformat": 4,
 "nbformat_minor": 5
}
