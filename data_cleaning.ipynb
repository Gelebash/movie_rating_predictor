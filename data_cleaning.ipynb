{
 "cells": [
  {
   "cell_type": "code",
   "execution_count": 1,
   "id": "499a325f",
   "metadata": {},
   "outputs": [
    {
     "name": "stdout",
     "output_type": "stream",
     "text": [
      "      nconst      primaryName birthYear deathYear  \\\n",
      "0  nm0000001     Fred Astaire      1899      1987   \n",
      "1  nm0000002    Lauren Bacall      1924      2014   \n",
      "2  nm0000003  Brigitte Bardot      1934        \\N   \n",
      "3  nm0000004     John Belushi      1949      1982   \n",
      "4  nm0000005   Ingmar Bergman      1918      2007   \n",
      "\n",
      "                    primaryProfession                           knownForTitles  \n",
      "0        actor,miscellaneous,producer  tt0072308,tt0050419,tt0027125,tt0025164  \n",
      "1  actress,soundtrack,archive_footage  tt0037382,tt0075213,tt0038355,tt0117057  \n",
      "2   actress,music_department,producer  tt0057345,tt0049189,tt0056404,tt0054452  \n",
      "3       actor,writer,music_department  tt0072562,tt0077975,tt0080455,tt0078723  \n",
      "4               writer,director,actor  tt0050986,tt0069467,tt0050976,tt0083922  \n",
      "      tconst titleType            primaryTitle           originalTitle  \\\n",
      "0  tt0000001     short              Carmencita              Carmencita   \n",
      "1  tt0000002     short  Le clown et ses chiens  Le clown et ses chiens   \n",
      "2  tt0000003     short            Poor Pierrot          Pauvre Pierrot   \n",
      "3  tt0000004     short             Un bon bock             Un bon bock   \n",
      "4  tt0000005     short        Blacksmith Scene        Blacksmith Scene   \n",
      "\n",
      "   isAdult startYear endYear runtimeMinutes                    genres  \n",
      "0        0      1894      \\N              1         Documentary,Short  \n",
      "1        0      1892      \\N              5           Animation,Short  \n",
      "2        0      1892      \\N              5  Animation,Comedy,Romance  \n",
      "3        0      1892      \\N             12           Animation,Short  \n",
      "4        0      1893      \\N              1                     Short  \n",
      "      tconst  directors    writers\n",
      "0  tt0000001  nm0005690         \\N\n",
      "1  tt0000002  nm0721526         \\N\n",
      "2  tt0000003  nm0721526  nm0721526\n",
      "3  tt0000004  nm0721526         \\N\n",
      "4  tt0000005  nm0005690         \\N\n",
      "      tconst  ordering     nconst         category                      job  \\\n",
      "0  tt0000001         1  nm1588970             self                       \\N   \n",
      "1  tt0000001         2  nm0005690         director                       \\N   \n",
      "2  tt0000001         3  nm0005690         producer                 producer   \n",
      "3  tt0000001         4  nm0374658  cinematographer  director of photography   \n",
      "4  tt0000002         1  nm0721526         director                       \\N   \n",
      "\n",
      "  characters  \n",
      "0   [\"Self\"]  \n",
      "1         \\N  \n",
      "2         \\N  \n",
      "3         \\N  \n",
      "4         \\N  \n",
      "      tconst  averageRating  numVotes\n",
      "0  tt0000001            5.7      2168\n",
      "1  tt0000002            5.5       298\n",
      "2  tt0000003            6.5      2229\n",
      "3  tt0000004            5.2       192\n",
      "4  tt0000005            6.2      2969\n"
     ]
    }
   ],
   "source": [
    "#Loading data from the imdb data set and printing\n",
    "\n",
    "import pandas as pd\n",
    "\n",
    "name_basics = pd.read_csv(\"data/name.basics.tsv\", sep=\"\\t\")\n",
    "title_basics = pd.read_csv(\"data/title.basics.tsv\", sep=\"\\t\")\n",
    "title_crew = pd.read_csv(\"data/title.crew.tsv\", sep=\"\\t\")\n",
    "title_principals = pd.read_csv(\"data/title.principals.tsv\", sep=\"\\t\")\n",
    "title_ratings = pd.read_csv(\"data/title.ratings.tsv\", sep=\"\\t\")\n",
    "\n",
    "print(name_basics.head())\n",
    "print(title_basics.head())\n",
    "print(title_crew.head())\n",
    "print(title_principals.head())\n",
    "print(title_ratings.head())"
   ]
  },
  {
   "cell_type": "code",
   "execution_count": 2,
   "id": "2644949a",
   "metadata": {},
   "outputs": [
    {
     "name": "stdout",
     "output_type": "stream",
     "text": [
      "Index(['nconst', 'primaryName', 'birthYear', 'deathYear', 'primaryProfession',\n",
      "       'knownForTitles'],\n",
      "      dtype='object')\n",
      "Index(['tconst', 'titleType', 'primaryTitle', 'originalTitle', 'isAdult',\n",
      "       'startYear', 'endYear', 'runtimeMinutes', 'genres'],\n",
      "      dtype='object')\n",
      "Index(['tconst', 'directors', 'writers'], dtype='object')\n",
      "Index(['tconst', 'ordering', 'nconst', 'category', 'job', 'characters'], dtype='object')\n",
      "Index(['tconst', 'averageRating', 'numVotes'], dtype='object')\n"
     ]
    }
   ],
   "source": [
    "# Checking the columns of each DataFrame to see which ones are relevant for our analysis\n",
    "print(name_basics.columns)\n",
    "print(title_basics.columns)\n",
    "print(title_crew.columns)\n",
    "print(title_principals.columns)\n",
    "print(title_ratings.columns)"
   ]
  },
  {
   "cell_type": "code",
   "execution_count": 3,
   "id": "8fc1aeba",
   "metadata": {},
   "outputs": [
    {
     "name": "stdout",
     "output_type": "stream",
     "text": [
      "      tconst titleType            primaryTitle           originalTitle  \\\n",
      "0  tt0000001     short              Carmencita              Carmencita   \n",
      "1  tt0000002     short  Le clown et ses chiens  Le clown et ses chiens   \n",
      "2  tt0000003     short            Poor Pierrot          Pauvre Pierrot   \n",
      "3  tt0000004     short             Un bon bock             Un bon bock   \n",
      "4  tt0000005     short        Blacksmith Scene        Blacksmith Scene   \n",
      "\n",
      "   isAdult startYear endYear runtimeMinutes                    genres  \\\n",
      "0        0      1894      \\N              1         Documentary,Short   \n",
      "1        0      1892      \\N              5           Animation,Short   \n",
      "2        0      1892      \\N              5  Animation,Comedy,Romance   \n",
      "3        0      1892      \\N             12           Animation,Short   \n",
      "4        0      1893      \\N              1                     Short   \n",
      "\n",
      "   averageRating  numVotes  \n",
      "0            5.7      2168  \n",
      "1            5.5       298  \n",
      "2            6.5      2229  \n",
      "3            5.2       192  \n",
      "4            6.2      2969  \n"
     ]
    }
   ],
   "source": [
    "# Merging the DataFrames to create a comprehensive movies DataFrame\n",
    "movies_df = pd.merge(title_basics, title_ratings, on=\"tconst\", how=\"inner\")\n",
    "print(movies_df.head())"
   ]
  },
  {
   "cell_type": "code",
   "execution_count": 4,
   "id": "6c097a63",
   "metadata": {},
   "outputs": [
    {
     "name": "stdout",
     "output_type": "stream",
     "text": [
      "         tconst titleType                               primaryTitle  isAdult  \\\n",
      "377   tt0000574     movie                The Story of the Kelly Gang        0   \n",
      "1033  tt0002130     movie                            Dante's Inferno        0   \n",
      "1139  tt0002423     movie                                    Passion        0   \n",
      "1250  tt0002844     movie  Fantômas: In the Shadow of the Guillotine        0   \n",
      "1281  tt0003014     movie                              Ingeborg Holm        0   \n",
      "\n",
      "      startYear  runtimeMinutes                      genres  averageRating  \\\n",
      "377        1906            70.0  Action,Adventure,Biography            6.0   \n",
      "1033       1911            71.0     Adventure,Drama,Fantasy            7.0   \n",
      "1139       1919           113.0     Biography,Drama,Romance            6.6   \n",
      "1250       1913            54.0                 Crime,Drama            6.9   \n",
      "1281       1913            96.0                       Drama            7.0   \n",
      "\n",
      "      numVotes  \n",
      "377       1013  \n",
      "1033      3879  \n",
      "1139      1087  \n",
      "1250      2655  \n",
      "1281      1549  \n"
     ]
    }
   ],
   "source": [
    "# Cleaning the DataFrame to remove irrelevant or low-quality data\n",
    "\n",
    "movies_df = movies_df[movies_df[\"titleType\"].isin([\"movie\"])]\n",
    "movies_df = movies_df[movies_df[\"numVotes\"] > 1000]\n",
    "movies_df = movies_df[movies_df[\"genres\"] != \"\\\\N\"]\n",
    "movies_df[\"startYear\"] = pd.to_numeric(movies_df[\"startYear\"], errors='coerce')\n",
    "movies_df[\"runtimeMinutes\"] = pd.to_numeric(movies_df[\"runtimeMinutes\"], errors='coerce')\n",
    "movies_df.dropna(subset=[\"startYear\", \"runtimeMinutes\"], inplace=True)\n",
    "movies_df = movies_df[movies_df[\"isAdult\"] == 0]\n",
    "movies_df = movies_df.drop(columns=[\"endYear\",\"originalTitle\"])\n",
    "\n",
    "print(movies_df.head())"
   ]
  },
  {
   "cell_type": "code",
   "execution_count": 5,
   "id": "8615275b",
   "metadata": {},
   "outputs": [
    {
     "name": "stdout",
     "output_type": "stream",
     "text": [
      "      tconst titleType                               primaryTitle  isAdult  \\\n",
      "0  tt0000574     movie                The Story of the Kelly Gang        0   \n",
      "1  tt0002130     movie                            Dante's Inferno        0   \n",
      "2  tt0002423     movie                                    Passion        0   \n",
      "3  tt0002844     movie  Fantômas: In the Shadow of the Guillotine        0   \n",
      "4  tt0003014     movie                              Ingeborg Holm        0   \n",
      "\n",
      "   startYear  runtimeMinutes                      genres  averageRating  \\\n",
      "0       1906            70.0  Action,Adventure,Biography            6.0   \n",
      "1       1911            71.0     Adventure,Drama,Fantasy            7.0   \n",
      "2       1919           113.0     Biography,Drama,Romance            6.6   \n",
      "3       1913            54.0                 Crime,Drama            6.9   \n",
      "4       1913            96.0                       Drama            7.0   \n",
      "\n",
      "   numVotes                      directors                        writers  \n",
      "0      1013                      nm0846879                      nm0846879  \n",
      "1      3879  nm0078205,nm0655824,nm0209738                      nm0019604  \n",
      "2      1087                      nm0523932            nm0266183,nm0473134  \n",
      "3      2655                      nm0275421  nm0019855,nm0275421,nm0816232  \n",
      "4      1549                      nm0803705            nm0472236,nm0803705  \n"
     ]
    }
   ],
   "source": [
    "# Merging the movies DataFrame with the title_crew DataFrame to add Directors and Writers columns\n",
    "movies_with_crew_df = pd.merge(movies_df,title_crew,on=\"tconst\",how=\"inner\")\n",
    "print(movies_with_crew_df.head())\n"
   ]
  },
  {
   "cell_type": "code",
   "execution_count": 6,
   "id": "86781630",
   "metadata": {},
   "outputs": [
    {
     "name": "stdout",
     "output_type": "stream",
     "text": [
      "ordering     tconst    actor_1    actor_2    actor_3\n",
      "0         tt0000005  nm0443482  nm0653042        NaN\n",
      "1         tt0000007  nm0179163  nm0183947        NaN\n",
      "2         tt0000008  nm0653028        NaN        NaN\n",
      "3         tt0000009  nm0063086  nm0183823  nm1309758\n",
      "4         tt0000011  nm3692297        NaN        NaN\n"
     ]
    }
   ],
   "source": [
    "# Cleaning title_principals DataFrame to only include actors/actresses and then make a DF including only the top 3 for each movie\n",
    "actors_df = title_principals[title_principals[\"category\"].isin([\"actor\", \"actress\"])]\n",
    "top_actors_df = actors_df[actors_df[\"ordering\"] <= 3]\n",
    "actor_pivot_df = top_actors_df.pivot_table(index=\"tconst\", columns=\"ordering\", values=\"nconst\", aggfunc=\"first\")\n",
    "actor_pivot_df.rename(columns={1: \"actor_1\", 2: \"actor_2\", 3: \"actor_3\"}, inplace=True)\n",
    "actor_pivot_df.reset_index(inplace=True)\n",
    "print(actor_pivot_df.head())"
   ]
  },
  {
   "cell_type": "code",
   "execution_count": 7,
   "id": "076b5c21",
   "metadata": {},
   "outputs": [
    {
     "name": "stdout",
     "output_type": "stream",
     "text": [
      "      tconst  startYear  runtimeMinutes                      genres  \\\n",
      "0  tt0000574       1906            70.0  Action,Adventure,Biography   \n",
      "1  tt0002130       1911            71.0     Adventure,Drama,Fantasy   \n",
      "2  tt0002423       1919           113.0     Biography,Drama,Romance   \n",
      "3  tt0002844       1913            54.0                 Crime,Drama   \n",
      "4  tt0003014       1913            96.0                       Drama   \n",
      "\n",
      "   averageRating  numVotes                      directors  \\\n",
      "0            6.0      1013                      nm0846879   \n",
      "1            7.0      3879  nm0078205,nm0655824,nm0209738   \n",
      "2            6.6      1087                      nm0523932   \n",
      "3            6.9      2655                      nm0275421   \n",
      "4            7.0      1549                      nm0803705   \n",
      "\n",
      "                         writers    actor_1    actor_2    actor_3  \n",
      "0                      nm0846879  nm0846887  nm0846894  nm1431224  \n",
      "1                      nm0019604  nm0660139  nm0685283  nm0209738  \n",
      "2            nm0266183,nm0473134  nm0624470  nm0417837  nm0509573  \n",
      "3  nm0019855,nm0275421,nm0816232  nm0622772  nm0622772  nm0107631  \n",
      "4            nm0472236,nm0803705  nm0096737  nm0344981  nm0511806  \n"
     ]
    }
   ],
   "source": [
    "# Final DataFrame with all relevant features\n",
    "final_df = pd.merge(movies_with_crew_df, actor_pivot_df, on=\"tconst\", how=\"left\")\n",
    "final_df = final_df.drop(columns=[\"isAdult\",\"titleType\",\"primaryTitle\"])\n",
    "print(final_df.head())"
   ]
  },
  {
   "cell_type": "code",
   "execution_count": 9,
   "id": "60072b5b",
   "metadata": {},
   "outputs": [],
   "source": [
    "# Saving file as parquet to use in model training\n",
    "final_df.to_parquet(\"data/final_movie_data.parquet\")"
   ]
  }
 ],
 "metadata": {
  "kernelspec": {
   "display_name": ".venv (3.12.2)",
   "language": "python",
   "name": "python3"
  },
  "language_info": {
   "codemirror_mode": {
    "name": "ipython",
    "version": 3
   },
   "file_extension": ".py",
   "mimetype": "text/x-python",
   "name": "python",
   "nbconvert_exporter": "python",
   "pygments_lexer": "ipython3",
   "version": "3.12.2"
  }
 },
 "nbformat": 4,
 "nbformat_minor": 5
}
